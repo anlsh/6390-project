{
  "nbformat": 4,
  "nbformat_minor": 0,
  "metadata": {
    "colab": {
      "name": "cs6390-final-presentation.ipynb",
      "provenance": [],
      "collapsed_sections": []
    },
    "kernelspec": {
      "name": "python3",
      "display_name": "Python 3"
    }
  },
  "cells": [
    {
      "cell_type": "markdown",
      "metadata": {
        "id": "nw5IXmV67TIA",
        "colab_type": "text"
      },
      "source": [
        "# **CS 6390 Final Project**\n",
        "*Nicholas Martucci & Anish Moorthy*"
      ]
    },
    {
      "cell_type": "code",
      "metadata": {
        "id": "mhamxDrd74nl",
        "colab_type": "code",
        "colab": {}
      },
      "source": [
        "%cd ~\n",
        "%pwd\n",
        "!rm -rf ~/6390-project\n",
        "!git clone https://github.com/anlsh/6390-project.git\n",
        "%cd 6390-project\n",
        "!git init\n",
        "!git pull\n",
        "!git checkout master\n",
        "\n",
        "!git status\n",
        "!git log -1\n",
        "\n",
        "from affine_checker import AffineTypeChecker\n",
        "from interpreter import evaluate\n",
        "from dsl_parser import dsl_parse\n",
        "from test_interpreter import base_env as get_base_runtime_env\n",
        "from test_affine_checker import base_tcheck_env\n",
        "\n",
        "def p_eval(src_str):\n",
        "  return evaluate(get_base_runtime_env(), dsl_parse(src_str))\n",
        "\n",
        "def p_tcheck(src_str):\n",
        "  return AffineTypeChecker.type_check(base_tcheck_env(), dsl_parse(src_str), \n",
        "                                      descope=True)"
      ],
      "execution_count": 0,
      "outputs": []
    },
    {
      "cell_type": "markdown",
      "metadata": {
        "id": "Di7uD52D-D7N",
        "colab_type": "text"
      },
      "source": [
        "## **Project Objective**\n",
        "\n",
        "The goal for this project was to implement and prove properties of a borrow checker that behaves similarly to Rust's borrow system. Both of us wanted to learn more about Rust's properties and the internals that provide these properties. Over time the project evolved into a type checker that supports both linear and affine type checking of a toy programming language."
      ]
    },
    {
      "cell_type": "markdown",
      "metadata": {
        "id": "GjR-DkQu_Ril",
        "colab_type": "text"
      },
      "source": [
        "## **Resources**\n",
        "\n",
        "To learn more about Affine and Linear Type Systems, we used [David Walker's chapter](http://mitp-content-server.mit.edu:18180/books/content/sectbyfn?collid=books_pres_0&id=1104&fn=9780262162289_sch_0001.pdf) from Advanced Topic in Types and Programming Languages as a resource\n",
        "\n",
        "* Overview of Substructural Type Systems\n",
        "* Deals mostly with Linear Types\n",
        "* Algorithmic type checking"
      ]
    },
    {
      "cell_type": "markdown",
      "metadata": {
        "colab_type": "text",
        "id": "Y_Zpk81EQu-8"
      },
      "source": [
        "## **Substructural Types**\n",
        "\n",
        "Linear types forbid the structural typing rules of weakening and contraction, so every linear object must be used exactly once.\n",
        "\n",
        "Affine types only forbid contraction, so affine objects can be used at most once."
      ]
    },
    {
      "cell_type": "markdown",
      "metadata": {
        "id": "BhKXONrxKz7c",
        "colab_type": "text"
      },
      "source": [
        "## **DSL: The Dead-Simple Language**\n",
        "\n",
        "Defined a toy programming language for the purposes of this project.\n",
        "* Originally aimed to build a type-checker for subset of Common Lisp\n",
        "* Kept Lisp-esque syntax\n",
        "* Language is evaluated and type-checked by maintaining for each scope an environment that maps bindings of names to values\n",
        "  * Interpreter bindings are\n",
        "    * Var name -> value\n",
        "    * Ref name -> binding of referenced var\n",
        "  * Type-checker bindings are\n",
        "    * Var name -> type\n",
        "    * Ref name -> type of referenced var\n",
        "* The mapping of function names to function bodies is maintained separately so that functions defined in an outer scope can be called in an inner scope \n",
        "\n",
        "Language has just a few constructs"
      ]
    },
    {
      "cell_type": "code",
      "metadata": {
        "id": "PlRVGwNwRTrH",
        "colab_type": "code",
        "colab": {}
      },
      "source": [
        "#########################\n",
        "# Sequential Evaluation #\n",
        "#########################\n",
        "prog = \"\"\"\n",
        "(3 true)\n",
        "\"\"\"\n",
        "p_eval(prog)"
      ],
      "execution_count": 0,
      "outputs": []
    },
    {
      "cell_type": "code",
      "metadata": {
        "id": "yT2oJ5x_Na8t",
        "colab_type": "code",
        "colab": {}
      },
      "source": [
        "#######################\n",
        "# Defining a variable #\n",
        "#######################\n",
        "prog = \"\"\"\n",
        "(\n",
        "  (defvar x _ 3)\n",
        "  x\n",
        ")\n",
        "\"\"\"\n",
        "p_eval(prog)\n"
      ],
      "execution_count": 0,
      "outputs": []
    },
    {
      "cell_type": "code",
      "metadata": {
        "id": "AUimT_GsOw-A",
        "colab_type": "code",
        "colab": {}
      },
      "source": [
        "##################################\n",
        "# Defining and calling functions #\n",
        "##################################\n",
        "prog = \"\"\"\n",
        "(\n",
        "  (defun sum-plus-two _ \n",
        "         (\n",
        "           (x _)\n",
        "           (y _)\n",
        "         )\n",
        "     (apply + x (apply + y 2))\n",
        "  )\n",
        "  (apply sum-plus-two 3 5)\n",
        ")\n",
        "\"\"\"\n",
        "p_eval(prog)"
      ],
      "execution_count": 0,
      "outputs": []
    },
    {
      "cell_type": "code",
      "metadata": {
        "id": "t_JCdDQbPdbA",
        "colab_type": "code",
        "colab": {}
      },
      "source": [
        "#################\n",
        "# If statements #\n",
        "#################\n",
        "prog = \"\"\"\n",
        "(\n",
        "  (if true -30 30)\n",
        ")\n",
        "\"\"\"\n",
        "p_eval(prog)"
      ],
      "execution_count": 0,
      "outputs": []
    },
    {
      "cell_type": "code",
      "metadata": {
        "id": "YkjrKAjXQbvx",
        "colab_type": "code",
        "colab": {}
      },
      "source": [
        "###############\n",
        "# While loops #\n",
        "###############\n",
        "prog = \"\"\"\n",
        "(\n",
        "  (defvar x _ 0)\n",
        "  (while (apply < x 50) \n",
        "         0 \n",
        "        (set x (apply + x 1))\n",
        "  )\n",
        "  x\n",
        ")\n",
        "\"\"\"\n",
        "p_eval(prog)"
      ],
      "execution_count": 0,
      "outputs": []
    },
    {
      "cell_type": "code",
      "metadata": {
        "id": "8zqqB0pR0Qhp",
        "colab_type": "code",
        "colab": {}
      },
      "source": [
        "##############\n",
        "# References #\n",
        "##############\n",
        "prog = \"\"\"\n",
        "(\n",
        "  (defvar x _ 0)\n",
        "  (defun set-ref-100 _ ((numref _))\n",
        "      (setrefval numref 100)\n",
        "  )\n",
        "  (scope \n",
        "      (defvar xref _ (mkref x))\n",
        "      (apply set-ref-100 xref)\n",
        "  )\n",
        "  x\n",
        ")\n",
        "\"\"\"\n",
        "p_eval(prog)"
      ],
      "execution_count": 0,
      "outputs": []
    },
    {
      "cell_type": "markdown",
      "metadata": {
        "id": "zBnrwJLLXX9T",
        "colab_type": "text"
      },
      "source": [
        "## Recursion"
      ]
    },
    {
      "cell_type": "code",
      "metadata": {
        "id": "XVUdDTytXpft",
        "colab_type": "code",
        "colab": {}
      },
      "source": [
        "# Fibonacci: 0, 1, 1, 2, 3...\n",
        "\n",
        "prog = \"\"\"\n",
        "(\n",
        "    (defun fib _ ((n _))\n",
        "        (defvar ret _ 0) \n",
        "        (if (apply = 0 n)\n",
        "            (set ret 0)\n",
        "            (if (apply = 1 n)\n",
        "                (set ret 1)\n",
        "                (set ret (apply +  (apply fib (apply - n 1))  (apply fib (apply - n 2))  ))\n",
        "            )\n",
        "        )\n",
        "        ret\n",
        "    )\n",
        "   (apply fib 4)\n",
        ")\n",
        "\"\"\"\n",
        "p_eval(prog)"
      ],
      "execution_count": 0,
      "outputs": []
    },
    {
      "cell_type": "markdown",
      "metadata": {
        "id": "xxGZaS4YZPkl",
        "colab_type": "text"
      },
      "source": [
        "## **Built-in Functions in DSL**\n",
        "\n",
        "\n",
        "```\n",
        "builtin_fn_vals = {\n",
        "    # Standard arithmetic operators and comparisons\n",
        "    '+': op.add, '-': op.sub, '*': op.mul, '/': op.truediv,\n",
        "    '>': op.gt, '<': op.lt, '>=': op.ge, '<=': op.le, \n",
        "\n",
        "    # Standard logical operators\n",
        "    'not': op.not_, 'or': op.or_, 'and': op.and_,\n",
        "\n",
        "    # Testing objects for equality\n",
        "    '=': op.eq,\n",
        "\n",
        "    # Functions for working with files\n",
        "    'fopen': lambda id: open(str(id), \"w+\"),\n",
        "    'fwrite': lambda f, out: f[1][0].write(str(out) + \"\\n\"),\n",
        "    'fclose': lambda f: f.close(),\n",
        "}\n",
        "```\n",
        "\n"
      ]
    },
    {
      "cell_type": "markdown",
      "metadata": {
        "id": "ewEpbmb72IRY",
        "colab_type": "text"
      },
      "source": [
        "## **Type-Checking**\n",
        "What are all of the underscores in the above programs? That's where all of the type specifiers go!\n",
        "\n",
        "* Type-checking is totally seperate from runtime\n",
        "\n",
        "A \"type specifier\" has three parts:\n",
        "* Modifier (Linear, Affine, Unrestricted)\n",
        "* Typeclass (either \"value\" or \"reference\")\n",
        "* Type arguments\n",
        "\n",
        "Must declare types for\n",
        "* Functions (return values and arguments)\n",
        "* Variables"
      ]
    },
    {
      "cell_type": "code",
      "metadata": {
        "id": "31P4BrJq_R4L",
        "colab_type": "code",
        "colab": {}
      },
      "source": [
        "# Evaluator will happily run this code\n",
        "prog = \"\"\"\n",
        "(apply + 3 true)\n",
        "\"\"\"\n",
        "p_eval(prog)"
      ],
      "execution_count": 0,
      "outputs": []
    },
    {
      "cell_type": "code",
      "metadata": {
        "id": "QcWMg3bO_ofO",
        "colab_type": "code",
        "colab": {}
      },
      "source": [
        "# But it won't pass the type checker\n",
        "prog = \"\"\"\n",
        "(apply + 3 true)\n",
        "\"\"\"\n",
        "p_tcheck(prog)"
      ],
      "execution_count": 0,
      "outputs": []
    },
    {
      "cell_type": "markdown",
      "metadata": {
        "id": "ed6vD-ipA2bZ",
        "colab_type": "text"
      },
      "source": [
        "## **Unrestricted Type-Checking in DSL**\n",
        "\n",
        "DSL's simple semantics allow an elegant type-checking/inferring algorithm\n",
        "\n",
        "* Defvar: Ensure that inferred type of definition form is subtype of declared type\n",
        "* Apply: Ensure that function is called with right number of arguments and that argument types are subtypes of those declared in signature\n",
        "* Defun: Assume that arguments have the types in signature, then infer the type of the function body and assert that final type is of correct kind"
      ]
    },
    {
      "cell_type": "code",
      "metadata": {
        "id": "g664w-6CDIhb",
        "colab_type": "code",
        "colab": {}
      },
      "source": [
        "prog = \"\"\"\n",
        "(\n",
        "  (defun add-false-nocast (un val int)\n",
        "                          ( (n1 (un val int)) (n2 (un val bool))  )\n",
        "\n",
        "      (apply + n1 n2)\n",
        "  )\n",
        ")\n",
        "\"\"\"\n",
        "p_tcheck(prog)"
      ],
      "execution_count": 0,
      "outputs": []
    },
    {
      "cell_type": "code",
      "metadata": {
        "id": "lyLbE2EUEOHk",
        "colab_type": "code",
        "colab": {}
      },
      "source": [
        "prog = \"\"\"\n",
        "(\n",
        "  (defun bool2int (un val int) \n",
        "                  ((b (un val bool))) \n",
        "     (if b 1 0)\n",
        "  )\n",
        "\n",
        "  (defun add-false-nocast (un val int)\n",
        "                           ( (n1 (un val int)) (n2 (un val bool))  )\n",
        "\n",
        "      (apply + n1 (apply bool2int n2))\n",
        "  )\n",
        ")\n",
        "\"\"\"\n",
        "p_tcheck(prog)"
      ],
      "execution_count": 0,
      "outputs": []
    },
    {
      "cell_type": "markdown",
      "metadata": {
        "id": "rx2S7owQH4q2",
        "colab_type": "text"
      },
      "source": [
        "**Type-Checking Recursive Functions**\n",
        "\n",
        "* No attempt to enforce well-formed recursion through types\n",
        "\n",
        "So the type-annotated recursive Fibonacci type-checks..."
      ]
    },
    {
      "cell_type": "code",
      "metadata": {
        "id": "k0mVch2_IJ1D",
        "colab_type": "code",
        "colab": {}
      },
      "source": [
        "# Fibonacci: 0, 1, 1, 2, 3...\n",
        "\n",
        "prog = \"\"\"\n",
        "(\n",
        "    (defun fib (un val int) ((n (un val int)))\n",
        "        (defvar ret (un val int) 0) \n",
        "        (if (apply = 0 n)\n",
        "            (set ret 0)\n",
        "            (if (apply = 1 n)\n",
        "                (set ret 1)\n",
        "                (set ret (apply +  (apply fib (apply - n 1))  (apply fib (apply - n 2))  ))\n",
        "            )\n",
        "        )\n",
        "        ret\n",
        "    )\n",
        "   (apply fib 4)\n",
        ")\n",
        "\"\"\"\n",
        "p_tcheck(prog)"
      ],
      "execution_count": 0,
      "outputs": []
    },
    {
      "cell_type": "markdown",
      "metadata": {
        "id": "G9pYUY_wI4QI",
        "colab_type": "text"
      },
      "source": [
        "... but so does this"
      ]
    },
    {
      "cell_type": "code",
      "metadata": {
        "id": "_1l-zizjI9dM",
        "colab_type": "code",
        "colab": {}
      },
      "source": [
        "prog = \"\"\"\n",
        "(\n",
        "    (defun fib (un val int) ((n (un val int)))\n",
        "        (apply fib n)\n",
        "    )\n",
        ")\n",
        "\"\"\"\n",
        "p_tcheck(prog)"
      ],
      "execution_count": 0,
      "outputs": []
    },
    {
      "cell_type": "markdown",
      "metadata": {
        "colab_type": "text",
        "id": "LcqG9s-Yguq3"
      },
      "source": [
        "**Type-Checking If statements and While loops**\n",
        "\n",
        "In order to simplify the process of type checking control flow branches and loops, we impose the restriction that the environment must not be modified by either branch of the if statement or the body of the while loop. \n",
        "\n",
        "So this if statement will type-check:"
      ]
    },
    {
      "cell_type": "code",
      "metadata": {
        "colab_type": "code",
        "id": "O_j78EAAjWH_",
        "colab": {}
      },
      "source": [
        "prog = \"\"\"\n",
        "(\n",
        "  (defvar x (un val int) 3)\n",
        "  (defvar y (un val int) 3) \n",
        "  (if true (set x (apply + x 1)) \n",
        "           (set y (apply - y 1)))\n",
        "  (apply + x 0)\n",
        ")\n",
        "\"\"\"\n",
        "p_tcheck(prog)"
      ],
      "execution_count": 0,
      "outputs": []
    },
    {
      "cell_type": "markdown",
      "metadata": {
        "colab_type": "text",
        "id": "NaK_fpIrlo6F"
      },
      "source": [
        "but this if statement does not because the file is closed in only one of the branches:"
      ]
    },
    {
      "cell_type": "code",
      "metadata": {
        "colab_type": "code",
        "id": "waxS2kwFj3RE",
        "colab": {}
      },
      "source": [
        "prog = \"\"\"\n",
        "(\n",
        "  (defvar f (lin val file) (apply fopen 300))\n",
        "  (if true (apply fclose f) \n",
        "           ((defvar fref (un ref (lin val file)) (mkref f))\n",
        "           (apply fwrite fref 1)))\n",
        ")\n",
        "\"\"\"\n",
        "p_tcheck(prog)"
      ],
      "execution_count": 0,
      "outputs": []
    },
    {
      "cell_type": "markdown",
      "metadata": {
        "id": "K9NvW25pJQq8",
        "colab_type": "text"
      },
      "source": [
        "## **Linear & Affine Type-Checking in DSL**\n",
        "\n",
        "DSL supports fully-fledged linear and affine type-checking\n",
        "\n",
        "Can be achieved through slight modifications to the type-checking mechanism\n",
        "\n",
        "* When a variable marked as linear/affine is type-checked, mark as \"used\"\n",
        "* At the end of a scope check for linear judgements at uppermost level\n",
        "* Linear and affine variables are consumed when applied to a function, akin to the move semantics of Rust\n",
        "\n",
        "Scopes stack, and are introduced by\n",
        "* Function definitions (little bit special)\n",
        "* Branches of the if statement\n",
        "* The \"scope\" operator"
      ]
    },
    {
      "cell_type": "code",
      "metadata": {
        "id": "yoJ7ne-INF_y",
        "colab_type": "code",
        "colab": {}
      },
      "source": [
        "prog = \"\"\"\n",
        "(\n",
        "   (defvar x (lin val int) 3)\n",
        ")\n",
        "\"\"\"\n",
        "p_tcheck(prog)"
      ],
      "execution_count": 0,
      "outputs": []
    },
    {
      "cell_type": "code",
      "metadata": {
        "id": "RtRyU0v1OxRw",
        "colab_type": "code",
        "colab": {}
      },
      "source": [
        "prog = \"\"\"\n",
        "(\n",
        "  (defun consume-int (un val int) \n",
        "                      ( (n (lin val int))  )\n",
        "       (apply + 0 n)\n",
        "   )\n",
        "   (defvar x (lin val int) 3)\n",
        "   (apply consume-int x)\n",
        ")\n",
        "\"\"\"\n",
        "p_tcheck(prog)"
      ],
      "execution_count": 0,
      "outputs": []
    },
    {
      "cell_type": "code",
      "metadata": {
        "id": "DxBWQvn-Qw65",
        "colab_type": "code",
        "colab": {}
      },
      "source": [
        "####################################################################\n",
        "# Of course, a linear/affine variable can't be used more than once #\n",
        "####################################################################\n",
        "\n",
        "prog = \"\"\"\n",
        "(\n",
        "   (defvar x (lin val int) 3)\n",
        "   (apply + 0 x)\n",
        "   x\n",
        ")\n",
        "\"\"\"\n",
        "p_tcheck(prog)"
      ],
      "execution_count": 0,
      "outputs": []
    },
    {
      "cell_type": "code",
      "metadata": {
        "id": "5MX3io_9RM4T",
        "colab_type": "code",
        "colab": {}
      },
      "source": [
        "##################################################\n",
        "# Can give a used linear variable a new value... #\n",
        "##################################################\n",
        "prog = \"\"\"\n",
        "(\n",
        "  (defvar x (lin val int) 3)\n",
        "  (set x (apply + x 1))\n",
        "\n",
        "  (apply + x 0)\n",
        ")\n",
        "\"\"\"\n",
        "p_tcheck(prog)"
      ],
      "execution_count": 0,
      "outputs": []
    },
    {
      "cell_type": "code",
      "metadata": {
        "id": "iOn18VhRShsM",
        "colab_type": "code",
        "colab": {}
      },
      "source": [
        "#########################\n",
        "# ...but only used ones #\n",
        "#########################\n",
        "prog = \"\"\"\n",
        "(\n",
        "  (defvar x (lin val file) (apply fopen 300))\n",
        "  (set x (apply fopen 400))\n",
        ")\n",
        "\"\"\"\n",
        "p_tcheck(prog)"
      ],
      "execution_count": 0,
      "outputs": []
    },
    {
      "cell_type": "markdown",
      "metadata": {
        "id": "8lhFBzryTdcW",
        "colab_type": "text"
      },
      "source": [
        "## Note: DSL doesn't allow linear values to be \"orphaned\"\n"
      ]
    },
    {
      "cell_type": "code",
      "metadata": {
        "id": "O5ou_gNnTuas",
        "colab_type": "code",
        "colab": {}
      },
      "source": [
        "# So the following code is fine...\n",
        "prog = \"\"\"\n",
        "(\n",
        "  (defvar x (un val int) 3)\n",
        "   x\n",
        "   3000\n",
        ")\n",
        "\"\"\"\n",
        "p_tcheck(prog)"
      ],
      "execution_count": 0,
      "outputs": []
    },
    {
      "cell_type": "code",
      "metadata": {
        "id": "awX31X-_T-c5",
        "colab_type": "code",
        "colab": {}
      },
      "source": [
        "# ... but this is not.\n",
        "prog = \"\"\"\n",
        "(\n",
        "  (defvar x (lin val int) 3)\n",
        "   x\n",
        "   3000\n",
        ")\n",
        "\"\"\"\n",
        "p_tcheck(prog)"
      ],
      "execution_count": 0,
      "outputs": []
    },
    {
      "cell_type": "markdown",
      "metadata": {
        "id": "4MAvH_gRWnUT",
        "colab_type": "text"
      },
      "source": [
        "Implementation: make sure that every instance of a linear variable being used is associated with a binding\n",
        "\n",
        "Bindings are established by\n",
        "* set\n",
        "* defvar\n",
        "* apply"
      ]
    },
    {
      "cell_type": "markdown",
      "metadata": {
        "id": "BUV0fNasVLh9",
        "colab_type": "text"
      },
      "source": [
        "# Linear types obviously good for resource management\n",
        "* Files, heap-allocated memory, etc.\n",
        "* Guarantee a file is closed exactly once\n",
        "\n",
        "## Types of the DSL built-in functions\n",
        "```\n",
        "builtin_fn_types = {\n",
        "    arithmetic : un LIN_INT -> LIN_INT -> UN_INT,\n",
        "    comparisons: un LIN_INT -> LIN_INT -> UN_BOOL,\n",
        "\n",
        "    ... etc\n",
        "\n",
        "    \"fopen\": un LIN_INT -> LIN_FILE,\n",
        "    \"fwrite\": un &LIN_FILE -> LIN_INT -> UNIT,\n",
        "    \"fclose\": un LIN_FILE -> UNIT\n",
        "}\n",
        "```"
      ]
    },
    {
      "cell_type": "markdown",
      "metadata": {
        "id": "zdn5WfNSXTkW",
        "colab_type": "text"
      },
      "source": [
        "## **How do you use a linear/affine variable multiple times?**\n",
        "\n",
        "We would like to be able to write to files multiple times, but only \"consume\" the file once when it is closed. \n",
        "\n",
        "This is where references come in! They allow \"borrowing\" a value."
      ]
    },
    {
      "cell_type": "code",
      "metadata": {
        "id": "pA-UcXtQX83_",
        "colab_type": "code",
        "colab": {}
      },
      "source": [
        "# Can write to files multiple times!\n",
        "%rm 300\n",
        "prog = \"\"\"\n",
        "(\n",
        "  (defvar f (lin val file) (apply fopen 300))\n",
        "  (scope \n",
        "    (defvar fref (un ref (lin val file)) (mkref f))\n",
        "    (apply fwrite fref 1)\n",
        "    (apply fwrite fref 2)\n",
        "  )\n",
        "  (apply fclose f)\n",
        ")  \n",
        "\"\"\"\n",
        "p_tcheck(prog)\n",
        "p_eval(prog)\n",
        "!echo \"Printing the contents of 300.txt!\"\n",
        "%cat 300"
      ],
      "execution_count": 0,
      "outputs": []
    },
    {
      "cell_type": "code",
      "metadata": {
        "id": "mRxbO8-pZfeJ",
        "colab_type": "code",
        "colab": {}
      },
      "source": [
        "# While a reference to an variable is active, the original is unusable\n",
        "%rm 300\n",
        "prog = \"\"\"\n",
        "(\n",
        "  (defvar f (lin val file) (apply fopen 300))\n",
        "  (scope \n",
        "    (defvar fref (un ref (lin val file)) (mkref f))\n",
        "    (apply fclose f)\n",
        "  )\n",
        ")  \n",
        "\"\"\"\n",
        "p_tcheck(prog)"
      ],
      "execution_count": 0,
      "outputs": []
    },
    {
      "cell_type": "markdown",
      "metadata": {
        "id": "wdE47CIla3rm",
        "colab_type": "text"
      },
      "source": [
        "## **Important attributes of DSL references**"
      ]
    },
    {
      "cell_type": "markdown",
      "metadata": {
        "id": "S32HaT6cb9Sp",
        "colab_type": "text"
      },
      "source": [
        "There is a dereferencing operator, but it can only work on references to \n",
        "unrestricted objects."
      ]
    },
    {
      "cell_type": "code",
      "metadata": {
        "id": "MSaSjWQdcG4E",
        "colab_type": "code",
        "colab": {}
      },
      "source": [
        "prog = \"\"\"\n",
        "(\n",
        "  (defvar x (un val int) 3)\n",
        "  (scope \n",
        "    (defvar xref (un ref (un val int)) (mkref x))\n",
        "    (apply + 3 (deref xref))\n",
        "  )\n",
        ")\n",
        "\"\"\"\n",
        "p_tcheck(prog)\n",
        "p_eval(prog)"
      ],
      "execution_count": 0,
      "outputs": []
    },
    {
      "cell_type": "code",
      "metadata": {
        "id": "GVqzsklHdCUh",
        "colab_type": "code",
        "colab": {}
      },
      "source": [
        "prog = \"\"\"\n",
        "(\n",
        "  (defvar f (lin val file) (apply fopen 300))\n",
        "  (scope \n",
        "    (defvar fref (un ref (lin val file)) (mkref f))\n",
        "    (apply fclose (deref fref))\n",
        "  )\n",
        ")\n",
        "\"\"\"\n",
        "p_tcheck(prog)"
      ],
      "execution_count": 0,
      "outputs": []
    },
    {
      "cell_type": "markdown",
      "metadata": {
        "id": "4CjHierObtRk",
        "colab_type": "text"
      },
      "source": [
        "References are affine-ish\n",
        "* Can be used multiple times\n",
        "* Cannot be duplicated\n",
        "* Only one reference to a variable may be live at a time\n",
        "\n",
        "Akin to mutable references in Rust"
      ]
    },
    {
      "cell_type": "code",
      "metadata": {
        "id": "Ay90Qq-TfDeg",
        "colab_type": "code",
        "colab": {}
      },
      "source": [
        "prog = \"\"\"\n",
        "(\n",
        "  (defvar f (lin val file) (apply fopen 300))\n",
        "  (scope \n",
        "    (defvar fref (un ref (lin val file)) (mkref f))\n",
        "    (defvar fref2 (un ref (lin val file)) (mkref f))\n",
        "  )\n",
        ")\n",
        "\"\"\"\n",
        "p_tcheck(prog)"
      ],
      "execution_count": 0,
      "outputs": []
    },
    {
      "cell_type": "code",
      "metadata": {
        "id": "dq6KL-lSdkSr",
        "colab_type": "code",
        "colab": {}
      },
      "source": [
        "prog = \"\"\"\n",
        "(\n",
        "  (defvar f (lin val file) (apply fopen 300))\n",
        "  (scope \n",
        "    (defvar fref (un ref (lin val file)) (mkref f))\n",
        "    (defvar fref2 (un ref (lin val file)) fref)\n",
        "    (apply fwrite fref 987)\n",
        "  )\n",
        "  (apply fclose f)\n",
        ")\n",
        "\"\"\"\n",
        "p_tcheck(prog)"
      ],
      "execution_count": 0,
      "outputs": []
    },
    {
      "cell_type": "code",
      "metadata": {
        "id": "Z0s_XpKVeJcA",
        "colab_type": "code",
        "colab": {}
      },
      "source": [
        "prog = \"\"\"\n",
        "(\n",
        "  (defun wants-two-frefs (un val int)\n",
        "                         ( \n",
        "                           (fref1 (un ref (lin val file)))\n",
        "                           (fref2 (un ref (lin val file)))\n",
        "                         )\n",
        "     3\n",
        "  )\n",
        "  (defvar f (lin val file) (apply fopen 300))\n",
        "  (scope \n",
        "      (defvar fref (un ref (lin val file)) (mkref f))\n",
        "      (apply wants-two-frefs fref fref)\n",
        "  )\n",
        ")\n",
        "\"\"\"\n",
        "p_tcheck(prog)"
      ],
      "execution_count": 0,
      "outputs": []
    },
    {
      "cell_type": "markdown",
      "metadata": {
        "colab_type": "text",
        "id": "uSQphzFqH2su"
      },
      "source": [
        "## **Future Work**\n",
        "\n",
        "* Write up formal typing rules\n",
        "* Allow declaration of the \"copy\" trait\n",
        "* Explicit \"return\" statement\n",
        "\n",
        "## **More Future Work**\n",
        "* Sum and Product Types\n",
        "* Automatic return of references to objects in same scope\n"
      ]
    }
  ]
}